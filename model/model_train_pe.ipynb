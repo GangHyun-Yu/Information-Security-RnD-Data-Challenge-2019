{
 "cells": [
  {
   "cell_type": "code",
   "execution_count": 2,
   "metadata": {},
   "outputs": [],
   "source": [
    "def score(confusion_matrix):\n",
    "    TP = float(confusion_matrix[0][0])\n",
    "    FP = float(confusion_matrix[0][1])\n",
    "    FN = float(confusion_matrix[1][0])\n",
    "    TN = float(confusion_matrix[1][1])\n",
    "\n",
    "    return (TP + TN) / sum(sum(confusion_matrix)) - ((FP / (FP + TN) * 0.6 + FN / (FN + TP) * 0.4))\n",
    "\n",
    "def accuracy(confusion_matrix):\n",
    "    return (confusion_matrix[0][0] + confusion_matrix[1][1]) / float(sum(sum(confusion_matrix)))"
   ]
  },
  {
   "cell_type": "code",
   "execution_count": 3,
   "metadata": {},
   "outputs": [
    {
     "data": {
      "text/plain": [
       "(19615, 148)"
      ]
     },
     "execution_count": 3,
     "metadata": {},
     "output_type": "execute_result"
    }
   ],
   "source": [
    "import pandas as pd\n",
    "\n",
    "data = pd.read_csv('pe_train.csv')\n",
    "\n",
    "x_data = data.drop(['filename', 'md5', 'CheckSum', 'CreationYear', 'class'], axis = 1)\n",
    "y_data = data['class']\n",
    "\n",
    "x_data.shape"
   ]
  },
  {
   "cell_type": "code",
   "execution_count": null,
   "metadata": {},
   "outputs": [],
   "source": []
  },
  {
   "cell_type": "code",
   "execution_count": 4,
   "metadata": {},
   "outputs": [
    {
     "data": {
      "text/plain": [
       "(15692, 3923)"
      ]
     },
     "execution_count": 4,
     "metadata": {},
     "output_type": "execute_result"
    }
   ],
   "source": [
    "# tran:test = 8:2\n",
    "\n",
    "from sklearn.model_selection import train_test_split\n",
    "x_train, x_test, y_train, y_test = train_test_split(x_data, y_data, \n",
    "                                                    test_size=0.2,\n",
    "                                                    random_state=42)\n",
    "x_train.shape[0], x_test.shape[0]"
   ]
  },
  {
   "cell_type": "code",
   "execution_count": null,
   "metadata": {},
   "outputs": [],
   "source": [
    "# xgb\n",
    "import xgboost as xgb\n",
    "\n",
    "xgb = xgb.XGBClassifier(max_depth=10, \n",
    "                          learning_rate=0.05, \n",
    "                          objective= 'binary:logistic')"
   ]
  },
  {
   "cell_type": "code",
   "execution_count": 7,
   "metadata": {},
   "outputs": [],
   "source": [
    "# random forest\n",
    "from sklearn.ensemble import RandomForestClassifier\n",
    "\n",
    "rf = RandomForestClassifier()"
   ]
  },
  {
   "cell_type": "code",
   "execution_count": 10,
   "metadata": {},
   "outputs": [
    {
     "name": "stdout",
     "output_type": "stream",
     "text": [
      "model : RandomForestClassifier(bootstrap=True, class_weight=None, criterion='gini',\n",
      "                       max_depth=None, max_features='auto', max_leaf_nodes=None,\n",
      "                       min_impurity_decrease=0.0, min_impurity_split=None,\n",
      "                       min_samples_leaf=1, min_samples_split=2,\n",
      "                       min_weight_fraction_leaf=0.0, n_estimators=600,\n",
      "                       n_jobs=None, oob_score=False, random_state=None,\n",
      "                       verbose=0, warm_start=False) error : 0.024980881978078 accuracy : 0.975019118021922 score : 0.9477804899955097\n"
     ]
    }
   ],
   "source": [
    "from sklearn.metrics import mean_squared_error, confusion_matrix\n",
    "from sklearn.externals import joblib \n",
    "\n",
    "\n",
    "model_name = {rf: 'RandomForest'}\n",
    "\n",
    "model = rf\n",
    "model.n_estimators = 600\n",
    "\n",
    "model.fit(x_train, y_train)\n",
    "\n",
    "y_predict = model.predict(x_test)\n",
    "confusion_matrix = confusion_matrix(y_test, y_predict, labels=[1, 0])\n",
    "print('model :', model, \n",
    "      'error :', mean_squared_error(y_test, y_predict), \n",
    "      'accuracy :', accuracy(confusion_matrix),\n",
    "      'score :', score(confusion_matrix))\n",
    "\n",
    "#joblib.dump(model, 'model' + model_name[model] + '.pkl')"
   ]
  },
  {
   "cell_type": "code",
   "execution_count": null,
   "metadata": {},
   "outputs": [],
   "source": []
  }
 ],
 "metadata": {
  "kernelspec": {
   "display_name": "Python 3",
   "language": "python",
   "name": "python3"
  },
  "language_info": {
   "codemirror_mode": {
    "name": "ipython",
    "version": 3
   },
   "file_extension": ".py",
   "mimetype": "text/x-python",
   "name": "python",
   "nbconvert_exporter": "python",
   "pygments_lexer": "ipython3",
   "version": "3.7.1"
  }
 },
 "nbformat": 4,
 "nbformat_minor": 2
}
